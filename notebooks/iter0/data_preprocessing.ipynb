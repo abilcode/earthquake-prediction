{
 "cells": [
  {
   "cell_type": "code",
   "execution_count": 1,
   "metadata": {},
   "outputs": [],
   "source": [
    "import numpy as np\n",
    "import pandas as pd\n"
   ]
  },
  {
   "cell_type": "code",
   "execution_count": 2,
   "metadata": {},
   "outputs": [
    {
     "data": {
      "text/html": [
       "<div>\n",
       "<style scoped>\n",
       "    .dataframe tbody tr th:only-of-type {\n",
       "        vertical-align: middle;\n",
       "    }\n",
       "\n",
       "    .dataframe tbody tr th {\n",
       "        vertical-align: top;\n",
       "    }\n",
       "\n",
       "    .dataframe thead th {\n",
       "        text-align: right;\n",
       "    }\n",
       "</style>\n",
       "<table border=\"1\" class=\"dataframe\">\n",
       "  <thead>\n",
       "    <tr style=\"text-align: right;\">\n",
       "      <th></th>\n",
       "      <th>acoustic_data</th>\n",
       "      <th>time_to_failure</th>\n",
       "    </tr>\n",
       "  </thead>\n",
       "  <tbody>\n",
       "    <tr>\n",
       "      <th>258641406</th>\n",
       "      <td>2</td>\n",
       "      <td>12.780296</td>\n",
       "    </tr>\n",
       "    <tr>\n",
       "      <th>90839428</th>\n",
       "      <td>4</td>\n",
       "      <td>3.594997</td>\n",
       "    </tr>\n",
       "    <tr>\n",
       "      <th>373903023</th>\n",
       "      <td>13</td>\n",
       "      <td>0.383496</td>\n",
       "    </tr>\n",
       "    <tr>\n",
       "      <th>431220178</th>\n",
       "      <td>4</td>\n",
       "      <td>7.945998</td>\n",
       "    </tr>\n",
       "    <tr>\n",
       "      <th>333618419</th>\n",
       "      <td>10</td>\n",
       "      <td>1.209896</td>\n",
       "    </tr>\n",
       "    <tr>\n",
       "      <th>4737050</th>\n",
       "      <td>10</td>\n",
       "      <td>0.239198</td>\n",
       "    </tr>\n",
       "    <tr>\n",
       "      <th>465024945</th>\n",
       "      <td>6</td>\n",
       "      <td>7.993898</td>\n",
       "    </tr>\n",
       "    <tr>\n",
       "      <th>258712451</th>\n",
       "      <td>8</td>\n",
       "      <td>12.761199</td>\n",
       "    </tr>\n",
       "    <tr>\n",
       "      <th>467217376</th>\n",
       "      <td>5</td>\n",
       "      <td>7.424597</td>\n",
       "    </tr>\n",
       "    <tr>\n",
       "      <th>125684197</th>\n",
       "      <td>6</td>\n",
       "      <td>3.400597</td>\n",
       "    </tr>\n",
       "  </tbody>\n",
       "</table>\n",
       "</div>"
      ],
      "text/plain": [
       "           acoustic_data  time_to_failure\n",
       "258641406              2        12.780296\n",
       "90839428               4         3.594997\n",
       "373903023             13         0.383496\n",
       "431220178              4         7.945998\n",
       "333618419             10         1.209896\n",
       "4737050               10         0.239198\n",
       "465024945              6         7.993898\n",
       "258712451              8        12.761199\n",
       "467217376              5         7.424597\n",
       "125684197              6         3.400597"
      ]
     },
     "execution_count": 2,
     "metadata": {},
     "output_type": "execute_result"
    }
   ],
   "source": [
    "data = pd.read_csv('/Users/abilfad/Documents/CODE/LANL-Earthquake-Prediction/train.csv')\n",
    "data.sample(10)"
   ]
  },
  {
   "cell_type": "code",
   "execution_count": 3,
   "metadata": {},
   "outputs": [
    {
     "name": "stdout",
     "output_type": "stream",
     "text": [
      "<class 'pandas.core.frame.DataFrame'>\n",
      "RangeIndex: 629145480 entries, 0 to 629145479\n",
      "Data columns (total 2 columns):\n",
      " #   Column           Dtype  \n",
      "---  ------           -----  \n",
      " 0   acoustic_data    int64  \n",
      " 1   time_to_failure  float64\n",
      "dtypes: float64(1), int64(1)\n",
      "memory usage: 9.4 GB\n"
     ]
    }
   ],
   "source": [
    "data.info()"
   ]
  },
  {
   "cell_type": "code",
   "execution_count": 4,
   "metadata": {},
   "outputs": [
    {
     "data": {
      "text/plain": [
       "<AxesSubplot:>"
      ]
     },
     "execution_count": 4,
     "metadata": {},
     "output_type": "execute_result"
    },
    {
     "data": {
      "image/png": "[encoded data removed]",
      "text/plain": [
       "<Figure size 432x288 with 1 Axes>"
      ]
     },
     "metadata": {
      "needs_background": "light"
     },
     "output_type": "display_data"
    }
   ],
   "source": [
    "data.iloc[:100000,0].plot()"
   ]
  }
 ],
 "metadata": {
  "kernelspec": {
   "display_name": "datavidia_final",
   "language": "python",
   "name": "python3"
  },
  "language_info": {
   "codemirror_mode": {
    "name": "ipython",
    "version": 3
   },
   "file_extension": ".py",
   "mimetype": "text/x-python",
   "name": "python",
   "nbconvert_exporter": "python",
   "pygments_lexer": "ipython3",
   "version": "3.9.7"
  },
  "orig_nbformat": 4,
  "vscode": {
   "interpreter": {
    "hash": "8db32764141b2957452d1ba87f7105e530d1e29ee773b9122cc988cebaca8f2c"
   }
  }
 },
 "nbformat": 4,
 "nbformat_minor": 2
}
